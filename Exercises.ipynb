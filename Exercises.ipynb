{
 "cells": [
  {
   "cell_type": "markdown",
   "metadata": {},
   "source": [
    "# Exercises \n"
   ]
  },
  {
   "cell_type": "markdown",
   "metadata": {},
   "source": [
    "# welcome to this notebook, I'll be doing some tasks that are required for my final assignment."
   ]
  },
  {
   "cell_type": "markdown",
   "metadata": {},
   "source": [
    " ## Data Science Languages\n",
    "\n",
    "1. Python \n",
    "\n",
    "2. R\n",
    "\n",
    "3. SQL \n",
    "\n",
    "4. Juila\n",
    "\n",
    "5. Scala"
   ]
  },
  {
   "cell_type": "markdown",
   "metadata": {},
   "source": [
    "## Data science libraries\n",
    "\n",
    "1. **Numpy**\n",
    "\n",
    "2. **Panadas**\n",
    "\n",
    "3. **Matplotlib**\n",
    "\n",
    "4. **scikit-learn**\n",
    "\n",
    "5. **TensorFlow**"
   ]
  },
  {
   "cell_type": "markdown",
   "metadata": {},
   "source": [
    "## Data science tools \n",
    "\n",
    "| Tool              | Description                                                |\n",
    "|-------------------|------------------------------------------------------------|\n",
    "| Jupyter Notebook  | Interactive coding environment for data analysis and exploration. |\n",
    "| RStudio           | Integrated development environment (IDE) for R programming language. |\n",
    "| PyCharm           | Python IDE with advanced code editing, debugging, and profiling features. |\n",
    "| Spyder            | Scientific Python IDE with features for data analysis and visualization. |\n",
    "| Tableau           | Data visualization and business intelligence tool for creating interactive dashboards and reports. |"
   ]
  },
  {
   "cell_type": "markdown",
   "metadata": {},
   "source": [
    "## Arithmetic Expression Examples\n",
    "\n",
    "1. Addition \n",
    "\n",
    "2. Subtraction\n",
    "\n",
    "3. Multiplication \n",
    "\n",
    "4. Division \n",
    "\n",
    "5. Modulo \n",
    "\n",
    "6. Order of operations "
   ]
  },
  {
   "cell_type": "code",
   "execution_count": 2,
   "metadata": {
    "tags": []
   },
   "outputs": [
    {
     "name": "stdout",
     "output_type": "stream",
     "text": [
      "Multiplication result: 72\n"
     ]
    }
   ],
   "source": [
    "num1 = 8\n",
    "num2 = 9\n",
    "result = num1*num2\n",
    "print(\"Multiplication result:\", result)"
   ]
  },
  {
   "cell_type": "code",
   "execution_count": 4,
   "metadata": {
    "tags": []
   },
   "outputs": [
    {
     "name": "stdout",
     "output_type": "stream",
     "text": [
      "Minutes: 135\n",
      "Hours 2.25\n"
     ]
    }
   ],
   "source": [
    "minutes = 135\n",
    "hours = minutes/60\n",
    "print(\"Minutes:\", minutes)\n",
    "print(\"Hours\", hours)"
   ]
  },
  {
   "cell_type": "markdown",
   "metadata": {},
   "source": [
    "## Objectives \n",
    "\n",
    "The objective is for me to increase my skill at working with jupyter and being able to use the many different features of it."
   ]
  },
  {
   "cell_type": "markdown",
   "metadata": {},
   "source": [
    "## Author's name\n",
    "\n",
    "This was made by Umer Khan."
   ]
  }
 ],
 "metadata": {
  "kernelspec": {
   "display_name": "Python",
   "language": "python",
   "name": "conda-env-python-py"
  },
  "language_info": {
   "codemirror_mode": {
    "name": "ipython",
    "version": 3
   },
   "file_extension": ".py",
   "mimetype": "text/x-python",
   "name": "python",
   "nbconvert_exporter": "python",
   "pygments_lexer": "ipython3",
   "version": "3.7.12"
  }
 },
 "nbformat": 4,
 "nbformat_minor": 4
}
